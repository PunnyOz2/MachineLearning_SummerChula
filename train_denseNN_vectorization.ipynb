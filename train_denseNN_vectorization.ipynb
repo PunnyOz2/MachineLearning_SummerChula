{
 "cells": [
  {
   "cell_type": "code",
   "execution_count": null,
   "metadata": {},
   "outputs": [],
   "source": [
    "import tensorflow as tf\n",
    "from tensorflow import keras\n",
    "import os\n",
    "\n",
    "import matplotlib.pyplot as plt\n",
    "\n",
    "import pandas as pd\n",
    "import numpy as np\n",
    "\n",
    "training_groundtruth = pd.read_csv('/kaggle/input/training-groundtruth/training-groundtruth-new.csv')\n",
    "transcripted_text_path = '/kaggle/input/transcripted-text/'"
   ]
  },
  {
   "cell_type": "code",
   "execution_count": null,
   "metadata": {},
   "outputs": [],
   "source": [
    "from sklearn.feature_extraction.text import CountVectorizer\n",
    "sentences = []\n",
    "for filename in os.listdir(transcripted_text_path):\n",
    "    if filename.endswith(\".txt\"):\n",
    "        sentences.append(open(transcripted_text_path + filename, 'r').read())\n",
    "vectorizer = CountVectorizer(min_df=0.05, max_df=0.9, lowercase=True)\n",
    "vectorizer.fit(sentences)"
   ]
  },
  {
   "cell_type": "code",
   "execution_count": null,
   "metadata": {},
   "outputs": [],
   "source": [
    "# vectorized_sentence = vectorizer.transform(sentences).toarray()"
   ]
  },
  {
   "cell_type": "code",
   "execution_count": null,
   "metadata": {},
   "outputs": [],
   "source": [
    "data_train = []\n",
    "data_test = []\n",
    "x_train = []\n",
    "x_test = []\n",
    "y_train = []\n",
    "y_test = []\n",
    "\n",
    "for index, row in training_groundtruth.iterrows():\n",
    "    if row['type'] == \"train\":\n",
    "        data_train.append(row)\n",
    "        y_train.append(row['dx'])\n",
    "    else:\n",
    "        data_test.append(row)\n",
    "        y_test.append(row['dx'])\n",
    "for rows_of_type in [data_train, data_test]:\n",
    "    for row in rows_of_type:\n",
    "        temp = []\n",
    "        temp += [row['age']]\n",
    "        temp += [1 if row['gender'] == 'female' else 0]\n",
    "        temp += [row['educ'] if not np.isnan(row['educ']) else 0]\n",
    "#         print(row['adressfname'])\n",
    "#         print(open(transcripted_text_path + row['adressfname'] + '.txt', 'r').read())\n",
    "        sentence = open(transcripted_text_path + row['adressfname'] + '.txt', 'r').read()\n",
    "        sentence = vectorizer.transform([sentence]).toarray()\n",
    "        temp = np.concatenate((temp, sentence[0]))\n",
    "\n",
    "        if row['type'] == \"train\":\n",
    "            x_train.append(temp)\n",
    "        else:\n",
    "            x_test.append(temp)\n",
    "        break\n",
    "    break\n",
    "\n",
    "x_train = np.array(x_train)\n",
    "x_test = np.array(x_test)"
   ]
  },
  {
   "cell_type": "code",
   "execution_count": null,
   "metadata": {},
   "outputs": [],
   "source": [
    "model = keras.Sequential([\n",
    "    keras.layers.Dense(100, activation='relu'),\n",
    "    keras.layers.Dense(100, activation='relu'),\n",
    "    keras.layers.Dense(1, activation='sigmoid')\n",
    "])\n",
    "model.compile(optimizer='adam',\n",
    "                loss='binary_crossentropy',\n",
    "                metrics=['accuracy'])"
   ]
  },
  {
   "cell_type": "code",
   "execution_count": null,
   "metadata": {},
   "outputs": [],
   "source": [
    "model.fit(x_train, y_train, epochs=10)"
   ]
  },
  {
   "cell_type": "code",
   "execution_count": null,
   "metadata": {},
   "outputs": [],
   "source": [
    "test_loss, test_acc = model.evaluate(x_test,  y_test, verbose=2)\n",
    "\n",
    "print('\\nTest accuracy:', test_acc)"
   ]
  }
 ],
 "metadata": {
  "language_info": {
   "name": "python"
  },
  "orig_nbformat": 4
 },
 "nbformat": 4,
 "nbformat_minor": 2
}
