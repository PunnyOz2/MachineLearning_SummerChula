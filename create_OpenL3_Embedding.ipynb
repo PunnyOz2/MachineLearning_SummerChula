{
 "cells": [
  {
   "cell_type": "code",
   "execution_count": 1,
   "metadata": {},
   "outputs": [],
   "source": [
    "import openl3\n",
    "import numpy as np\n",
    "import os"
   ]
  },
  {
   "attachments": {},
   "cell_type": "markdown",
   "metadata": {},
   "source": [
    "Process one file"
   ]
  },
  {
   "cell_type": "code",
   "execution_count": null,
   "metadata": {},
   "outputs": [],
   "source": [
    "# audio_filepath = './audio_in/train/adrso002.mp3'\n",
    "# openl3.process_audio_file(audio_filepath, output_dir='./audio_out/train')"
   ]
  },
  {
   "attachments": {},
   "cell_type": "markdown",
   "metadata": {},
   "source": [
    "Process all file"
   ]
  },
  {
   "cell_type": "code",
   "execution_count": null,
   "metadata": {},
   "outputs": [],
   "source": [
    "#process_audio_file all file in audio_in folder\n",
    "audio_in_dir = './audio_in/sample/'\n",
    "audio_out_dir = './audio_out/sample/'\n",
    "for filename in os.listdir(audio_in_dir):\n",
    "    if filename.endswith(\".mp3\"):\n",
    "        audio_filepath = audio_in_dir + filename\n",
    "        print(audio_filepath)\n",
    "        openl3.process_audio_file(audio_filepath, output_dir=audio_out_dir)\n",
    "        continue\n",
    "    else:\n",
    "        continue\n"
   ]
  }
 ],
 "metadata": {
  "kernelspec": {
   "display_name": "Python 3",
   "language": "python",
   "name": "python3"
  },
  "language_info": {
   "codemirror_mode": {
    "name": "ipython",
    "version": 3
   },
   "file_extension": ".py",
   "mimetype": "text/x-python",
   "name": "python",
   "nbconvert_exporter": "python",
   "pygments_lexer": "ipython3",
   "version": "3.9.0"
  },
  "orig_nbformat": 4
 },
 "nbformat": 4,
 "nbformat_minor": 2
}
